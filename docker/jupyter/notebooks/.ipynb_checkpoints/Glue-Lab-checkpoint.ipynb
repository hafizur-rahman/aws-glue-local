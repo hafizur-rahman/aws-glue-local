{
 "cells": [
  {
   "cell_type": "code",
   "execution_count": 30,
   "metadata": {
    "scrolled": true
   },
   "outputs": [
    {
     "data": {
      "application/vnd.jupyter.widget-view+json": {
       "model_id": "",
       "version_major": 2,
       "version_minor": 0
      },
      "text/plain": [
       "FloatProgress(value=0.0, bar_style='info', description='Progress:', layout=Layout(height='25px', width='50%'),…"
      ]
     },
     "metadata": {},
     "output_type": "display_data"
    }
   ],
   "source": [
    "import sys\n",
    "import time\n",
    "\n",
    "from awsglue.transforms import *\n",
    "from awsglue.utils import getResolvedOptions\n",
    "from pyspark.context import SparkContext, SparkConf\n",
    "from awsglue.context import GlueContext\n",
    "from awsglue.job import Job\n",
    "\n",
    "from awsglue.dynamicframe import DynamicFrame\n",
    "from pyspark.sql.functions import udf\n",
    "from pyspark.sql.types import StringType\n",
    "\n",
    "sc = SparkContext.getOrCreate()\n",
    "\n",
    "hc = sc._jsc.hadoopConfiguration()\n",
    "hc.set(\"fs.s3a.awsAccessKeyId\", \"minio\")\n",
    "hc.set(\"fs.s3a.secret.key\", \"minio123\")\n",
    "hc.set(\"fs.s3a.endpoint\", \"http://172.20.0.3:9000/\")\n",
    "hc.set(\"fs.s3a.connection.ssl.enabled\",\"false\")\n",
    "\n",
    "glueContext = GlueContext(sc)\n",
    "spark = glueContext.spark_session"
   ]
  },
  {
   "cell_type": "code",
   "execution_count": 28,
   "metadata": {
    "scrolled": true
   },
   "outputs": [
    {
     "data": {
      "application/vnd.jupyter.widget-view+json": {
       "model_id": "",
       "version_major": 2,
       "version_minor": 0
      },
      "text/plain": [
       "FloatProgress(value=0.0, bar_style='info', description='Progress:', layout=Layout(height='25px', width='50%'),…"
      ]
     },
     "metadata": {},
     "output_type": "display_data"
    },
    {
     "name": "stdout",
     "output_type": "stream",
     "text": [
      "root\n",
      " |-- DRG Definition: string (nullable = true)\n",
      " |-- Provider Id: string (nullable = true)\n",
      " |-- Provider Name: string (nullable = true)\n",
      " |-- Provider Street Address: string (nullable = true)\n",
      " |-- Provider City: string (nullable = true)\n",
      " |-- Provider State: string (nullable = true)\n",
      " |-- Provider Zip Code: string (nullable = true)\n",
      " |-- Hospital Referral Region Description: string (nullable = true)\n",
      " |--  Total Discharges : string (nullable = true)\n",
      " |--  Average Covered Charges : string (nullable = true)\n",
      " |--  Average Total Payments : string (nullable = true)\n",
      " |-- Average Medicare Payments: string (nullable = true)\n",
      "\n",
      "+--------------------+-----------+--------------------+-----------------------+-------------+--------------+-----------------+------------------------------------+------------------+-------------------------+------------------------+-------------------------+\n",
      "|      DRG Definition|Provider Id|       Provider Name|Provider Street Address|Provider City|Provider State|Provider Zip Code|Hospital Referral Region Description| Total Discharges | Average Covered Charges | Average Total Payments |Average Medicare Payments|\n",
      "+--------------------+-----------+--------------------+-----------------------+-------------+--------------+-----------------+------------------------------------+------------------+-------------------------+------------------------+-------------------------+\n",
      "|039 - EXTRACRANIA...|      10001|SOUTHEAST ALABAMA...|   1108 ROSS CLARK C...|       DOTHAN|            AL|            36301|                         AL - Dothan|                91|                $32963.07|                $5777.24|                 $4763.73|\n",
      "|039 - EXTRACRANIA...|      10005|MARSHALL MEDICAL ...|   2505 U S HIGHWAY ...|         BOAZ|            AL|            35957|                     AL - Birmingham|                14|                $15131.85|                $5787.57|                 $4976.71|\n",
      "|039 - EXTRACRANIA...|      10006|ELIZA COFFEE MEMO...|     205 MARENGO STREET|     FLORENCE|            AL|            35631|                     AL - Birmingham|                24|                $37560.37|                $5434.95|                 $4453.79|\n",
      "|039 - EXTRACRANIA...|      10011|   ST VINCENT'S EAST|   50 MEDICAL PARK E...|   BIRMINGHAM|            AL|            35235|                     AL - Birmingham|                25|                $13998.28|                $5417.56|                 $4129.16|\n",
      "|039 - EXTRACRANIA...|      10016|SHELBY BAPTIST ME...|   1000 FIRST STREET...|    ALABASTER|            AL|            35007|                     AL - Birmingham|                18|                $31633.27|                $5658.33|                 $4851.44|\n",
      "|039 - EXTRACRANIA...|      10023|BAPTIST MEDICAL C...|   2105 EAST SOUTH B...|   MONTGOMERY|            AL|            36116|                     AL - Montgomery|                67|                $16920.79|                $6653.80|                 $5374.14|\n",
      "|039 - EXTRACRANIA...|      10029|EAST ALABAMA MEDI...|   2000 PEPPERELL PA...|      OPELIKA|            AL|            36801|                     AL - Birmingham|                51|                $11977.13|                $5834.74|                 $4761.41|\n",
      "|039 - EXTRACRANIA...|      10033|UNIVERSITY OF ALA...|   619 SOUTH 19TH ST...|   BIRMINGHAM|            AL|            35233|                     AL - Birmingham|                32|                $35841.09|                $8031.12|                 $5858.50|\n",
      "|039 - EXTRACRANIA...|      10039| HUNTSVILLE HOSPITAL|          101 SIVLEY RD|   HUNTSVILLE|            AL|            35801|                     AL - Huntsville|               135|                $28523.39|                $6113.38|                 $5228.40|\n",
      "|039 - EXTRACRANIA...|      10040|GADSDEN REGIONAL ...|   1007 GOODYEAR AVENUE|      GADSDEN|            AL|            35903|                     AL - Birmingham|                34|                $75233.38|                $5541.05|                 $4386.94|\n",
      "|039 - EXTRACRANIA...|      10046|RIVERVIEW REGIONA...|   600 SOUTH THIRD S...|      GADSDEN|            AL|            35901|                     AL - Birmingham|                14|                $67327.92|                $5461.57|                 $4493.57|\n",
      "|039 - EXTRACRANIA...|      10055|    FLOWERS HOSPITAL|   4370 WEST MAIN ST...|       DOTHAN|            AL|            36305|                         AL - Dothan|                45|                $39607.28|                $5356.28|                 $4408.20|\n",
      "|039 - EXTRACRANIA...|      10056|ST VINCENT'S BIRM...|   810 ST VINCENT'S ...|   BIRMINGHAM|            AL|            35205|                     AL - Birmingham|                43|                $22862.23|                $5374.65|                 $4186.02|\n",
      "|039 - EXTRACRANIA...|      10078|NORTHEAST ALABAMA...|   400 EAST 10TH STREET|     ANNISTON|            AL|            36207|                     AL - Birmingham|                21|                $31110.85|                $5366.23|                 $4376.23|\n",
      "|039 - EXTRACRANIA...|      10083|SOUTH BALDWIN REG...|   1613 NORTH MCKENZ...|        FOLEY|            AL|            36535|                         AL - Mobile|                15|                $25411.33|                $5282.93|                 $4383.73|\n",
      "|039 - EXTRACRANIA...|      10085|DECATUR GENERAL H...|     1201 7TH STREET SE|      DECATUR|            AL|            35609|                     AL - Huntsville|                27|                 $9234.51|                $5676.55|                 $4509.11|\n",
      "|039 - EXTRACRANIA...|      10090| PROVIDENCE HOSPITAL|   6801 AIRPORT BOUL...|       MOBILE|            AL|            36608|                         AL - Mobile|                27|                $15895.85|                $5930.11|                 $3972.85|\n",
      "|039 - EXTRACRANIA...|      10092|D C H REGIONAL ME...|   809 UNIVERSITY BO...|   TUSCALOOSA|            AL|            35401|                     AL - Tuscaloosa|                31|                $19721.16|                $6192.54|                 $5179.38|\n",
      "|039 - EXTRACRANIA...|      10100|     THOMAS HOSPITAL|      750 MORPHY AVENUE|     FAIRHOPE|            AL|            36532|                         AL - Mobile|                18|                $10710.88|                $4968.00|                 $3898.88|\n",
      "|039 - EXTRACRANIA...|      10103|BAPTIST MEDICAL C...|   701 PRINCETON AVE...|   BIRMINGHAM|            AL|            35211|                     AL - Birmingham|                33|                $51343.75|                $5996.00|                 $4962.45|\n",
      "+--------------------+-----------+--------------------+-----------------------+-------------+--------------+-----------------+------------------------------------+------------------+-------------------------+------------------------+-------------------------+\n",
      "only showing top 20 rows"
     ]
    }
   ],
   "source": [
    "df = spark.read.option(\"header\",\"true\").csv(\"s3a://awsglue-datasets/Medicare_Hospital_Provider.csv\")\n",
    "df.printSchema()\n",
    "df.show()"
   ]
  },
  {
   "cell_type": "code",
   "execution_count": 36,
   "metadata": {},
   "outputs": [
    {
     "data": {
      "application/vnd.jupyter.widget-view+json": {
       "model_id": "",
       "version_major": 2,
       "version_minor": 0
      },
      "text/plain": [
       "FloatProgress(value=0.0, bar_style='info', description='Progress:', layout=Layout(height='25px', width='50%'),…"
      ]
     },
     "metadata": {},
     "output_type": "display_data"
    }
   ],
   "source": [
    "medicare_dynamicframe = DynamicFrame.fromDF(df, glueContext, 'medicare')"
   ]
  },
  {
   "cell_type": "code",
   "execution_count": 37,
   "metadata": {},
   "outputs": [
    {
     "data": {
      "application/vnd.jupyter.widget-view+json": {
       "model_id": "",
       "version_major": 2,
       "version_minor": 0
      },
      "text/plain": [
       "FloatProgress(value=0.0, bar_style='info', description='Progress:', layout=Layout(height='25px', width='50%'),…"
      ]
     },
     "metadata": {},
     "output_type": "display_data"
    },
    {
     "name": "stdout",
     "output_type": "stream",
     "text": [
      "root\n",
      "|-- DRG Definition: string\n",
      "|-- Provider Id: string\n",
      "|-- Provider Name: string\n",
      "|-- Provider Street Address: string\n",
      "|-- Provider City: string\n",
      "|-- Provider State: string\n",
      "|-- Provider Zip Code: string\n",
      "|-- Hospital Referral Region Description: string\n",
      "|--  Total Discharges : string\n",
      "|--  Average Covered Charges : string\n",
      "|--  Average Total Payments : string\n",
      "|-- Average Medicare Payments: string"
     ]
    }
   ],
   "source": [
    "medicare_dynamicframe.printSchema()"
   ]
  },
  {
   "cell_type": "code",
   "execution_count": 40,
   "metadata": {},
   "outputs": [
    {
     "data": {
      "application/vnd.jupyter.widget-view+json": {
       "model_id": "",
       "version_major": 2,
       "version_minor": 0
      },
      "text/plain": [
       "FloatProgress(value=0.0, bar_style='info', description='Progress:', layout=Layout(height='25px', width='50%'),…"
      ]
     },
     "metadata": {},
     "output_type": "display_data"
    },
    {
     "name": "stdout",
     "output_type": "stream",
     "text": [
      "root\n",
      "|-- DRG Definition: string\n",
      "|-- Provider Id: long\n",
      "|-- Provider Name: string\n",
      "|-- Provider Street Address: string\n",
      "|-- Provider City: string\n",
      "|-- Provider State: string\n",
      "|-- Provider Zip Code: string\n",
      "|-- Hospital Referral Region Description: string\n",
      "|--  Total Discharges : string\n",
      "|--  Average Covered Charges : string\n",
      "|--  Average Total Payments : string\n",
      "|-- Average Medicare Payments: string"
     ]
    }
   ],
   "source": [
    "medicare_res = medicare_dynamicframe.resolveChoice(specs = [('Provider Id','cast:long')])\n",
    "medicare_res.printSchema()"
   ]
  },
  {
   "cell_type": "code",
   "execution_count": 42,
   "metadata": {},
   "outputs": [
    {
     "data": {
      "application/vnd.jupyter.widget-view+json": {
       "model_id": "",
       "version_major": 2,
       "version_minor": 0
      },
      "text/plain": [
       "FloatProgress(value=0.0, bar_style='info', description='Progress:', layout=Layout(height='25px', width='50%'),…"
      ]
     },
     "metadata": {},
     "output_type": "display_data"
    },
    {
     "name": "stdout",
     "output_type": "stream",
     "text": [
      "+--------------------+-----------+---------------+-----------------------+-------------+--------------+-----------------+------------------------------------+------------------+-------------------------+------------------------+-------------------------+\n",
      "|      DRG Definition|Provider Id|  Provider Name|Provider Street Address|Provider City|Provider State|Provider Zip Code|Hospital Referral Region Description| Total Discharges | Average Covered Charges | Average Total Payments |Average Medicare Payments|\n",
      "+--------------------+-----------+---------------+-----------------------+-------------+--------------+-----------------+------------------------------------+------------------+-------------------------+------------------------+-------------------------+\n",
      "|948 - SIGNS & SYM...|       null|            INC|       1050 DIVISION ST|      MAUSTON|            WI|            53948|                        WI - Madison|                12|                $11961.41|                $4619.00|                 $3775.33|\n",
      "|948 - SIGNS & SYM...|       null| INC- ST JOSEPH|     5000 W CHAMBERS ST|    MILWAUKEE|            WI|            53210|                      WI - Milwaukee|                14|                $10514.28|                $5562.50|                 $4522.78|\n",
      "+--------------------+-----------+---------------+-----------------------+-------------+--------------+-----------------+------------------------------------+------------------+-------------------------+------------------------+-------------------------+"
     ]
    }
   ],
   "source": [
    "medicare_res.toDF().where(\"`provider id` is NULL\").show()"
   ]
  },
  {
   "cell_type": "code",
   "execution_count": 43,
   "metadata": {},
   "outputs": [
    {
     "data": {
      "application/vnd.jupyter.widget-view+json": {
       "model_id": "",
       "version_major": 2,
       "version_minor": 0
      },
      "text/plain": [
       "FloatProgress(value=0.0, bar_style='info', description='Progress:', layout=Layout(height='25px', width='50%'),…"
      ]
     },
     "metadata": {},
     "output_type": "display_data"
    }
   ],
   "source": [
    "medicare_dataframe = medicare_res.toDF()\n",
    "medicare_dataframe = medicare_dataframe.where(\"`provider id` is NOT NULL\")"
   ]
  },
  {
   "cell_type": "code",
   "execution_count": 49,
   "metadata": {},
   "outputs": [
    {
     "data": {
      "application/vnd.jupyter.widget-view+json": {
       "model_id": "",
       "version_major": 2,
       "version_minor": 0
      },
      "text/plain": [
       "FloatProgress(value=0.0, bar_style='info', description='Progress:', layout=Layout(height='25px', width='50%'),…"
      ]
     },
     "metadata": {},
     "output_type": "display_data"
    },
    {
     "name": "stdout",
     "output_type": "stream",
     "text": [
      "+--------+-------+-------+\n",
      "|     ACC|    ATP|    AMP|\n",
      "+--------+-------+-------+\n",
      "|32963.07|5777.24|4763.73|\n",
      "|15131.85|5787.57|4976.71|\n",
      "|37560.37|5434.95|4453.79|\n",
      "|13998.28|5417.56|4129.16|\n",
      "|31633.27|5658.33|4851.44|\n",
      "|16920.79|6653.80|5374.14|\n",
      "|11977.13|5834.74|4761.41|\n",
      "|35841.09|8031.12|5858.50|\n",
      "|28523.39|6113.38|5228.40|\n",
      "|75233.38|5541.05|4386.94|\n",
      "|67327.92|5461.57|4493.57|\n",
      "|39607.28|5356.28|4408.20|\n",
      "|22862.23|5374.65|4186.02|\n",
      "|31110.85|5366.23|4376.23|\n",
      "|25411.33|5282.93|4383.73|\n",
      "| 9234.51|5676.55|4509.11|\n",
      "|15895.85|5930.11|3972.85|\n",
      "|19721.16|6192.54|5179.38|\n",
      "|10710.88|4968.00|3898.88|\n",
      "|51343.75|5996.00|4962.45|\n",
      "+--------+-------+-------+\n",
      "only showing top 20 rows"
     ]
    }
   ],
   "source": [
    "from pyspark.sql.functions import udf\n",
    "from pyspark.sql.types import StringType\n",
    "\n",
    "chop_f = udf(lambda x: x[1:], StringType())\n",
    "medicare_dataframe = medicare_dataframe.withColumn(\n",
    "        \"ACC\", chop_f(\n",
    "            medicare_dataframe[\" Average Covered Charges \"])).withColumn(\n",
    "                \"ATP\", chop_f(\n",
    "                    medicare_dataframe[\" Average Total Payments \"])).withColumn(\n",
    "                        \"AMP\", chop_f(\n",
    "                            medicare_dataframe[\"Average Medicare Payments\"]))\n",
    "medicare_dataframe.select(['ACC', 'ATP', 'AMP']).show()"
   ]
  },
  {
   "cell_type": "code",
   "execution_count": 50,
   "metadata": {},
   "outputs": [
    {
     "data": {
      "application/vnd.jupyter.widget-view+json": {
       "model_id": "",
       "version_major": 2,
       "version_minor": 0
      },
      "text/plain": [
       "FloatProgress(value=0.0, bar_style='info', description='Progress:', layout=Layout(height='25px', width='50%'),…"
      ]
     },
     "metadata": {},
     "output_type": "display_data"
    },
    {
     "name": "stdout",
     "output_type": "stream",
     "text": [
      "root\n",
      "|-- drg: string\n",
      "|-- provider: struct\n",
      "|    |-- id: long\n",
      "|    |-- name: string\n",
      "|    |-- city: string\n",
      "|    |-- state: string\n",
      "|    |-- zip: long\n",
      "|-- rr: string\n",
      "|-- charges: struct\n",
      "|    |-- covered: double\n",
      "|    |-- total_pay: double\n",
      "|    |-- medicare_pay: double"
     ]
    }
   ],
   "source": [
    "from awsglue.dynamicframe import DynamicFrame\n",
    "medicare_tmp_dyf = DynamicFrame.fromDF(medicare_dataframe, glueContext, \"nested\")\n",
    "medicare_nest_dyf = medicare_tmp_dyf.apply_mapping([('drg definition', 'string', 'drg', 'string'),\n",
    "                 ('provider id', 'long', 'provider.id', 'long'),\n",
    "                 ('provider name', 'string', 'provider.name', 'string'),\n",
    "                 ('provider city', 'string', 'provider.city', 'string'),\n",
    "                 ('provider state', 'string', 'provider.state', 'string'),\n",
    "                 ('provider zip code', 'long', 'provider.zip', 'long'),\n",
    "                 ('hospital referral region description', 'string','rr', 'string'),\n",
    "                 ('ACC', 'string', 'charges.covered', 'double'),\n",
    "                 ('ATP', 'string', 'charges.total_pay', 'double'),\n",
    "                 ('AMP', 'string', 'charges.medicare_pay', 'double')])\n",
    "medicare_nest_dyf.printSchema()"
   ]
  },
  {
   "cell_type": "code",
   "execution_count": 51,
   "metadata": {},
   "outputs": [
    {
     "data": {
      "application/vnd.jupyter.widget-view+json": {
       "model_id": "",
       "version_major": 2,
       "version_minor": 0
      },
      "text/plain": [
       "FloatProgress(value=0.0, bar_style='info', description='Progress:', layout=Layout(height='25px', width='50%'),…"
      ]
     },
     "metadata": {},
     "output_type": "display_data"
    },
    {
     "name": "stdout",
     "output_type": "stream",
     "text": [
      "+--------------------+--------------------+---------------+--------------------+\n",
      "|                 drg|            provider|             rr|             charges|\n",
      "+--------------------+--------------------+---------------+--------------------+\n",
      "|039 - EXTRACRANIA...|[10001, SOUTHEAST...|    AL - Dothan|[32963.07, 5777.2...|\n",
      "|039 - EXTRACRANIA...|[10005, MARSHALL ...|AL - Birmingham|[15131.85, 5787.5...|\n",
      "|039 - EXTRACRANIA...|[10006, ELIZA COF...|AL - Birmingham|[37560.37, 5434.9...|\n",
      "|039 - EXTRACRANIA...|[10011, ST VINCEN...|AL - Birmingham|[13998.28, 5417.5...|\n",
      "|039 - EXTRACRANIA...|[10016, SHELBY BA...|AL - Birmingham|[31633.27, 5658.3...|\n",
      "|039 - EXTRACRANIA...|[10023, BAPTIST M...|AL - Montgomery|[16920.79, 6653.8...|\n",
      "|039 - EXTRACRANIA...|[10029, EAST ALAB...|AL - Birmingham|[11977.13, 5834.7...|\n",
      "|039 - EXTRACRANIA...|[10033, UNIVERSIT...|AL - Birmingham|[35841.09, 8031.1...|\n",
      "|039 - EXTRACRANIA...|[10039, HUNTSVILL...|AL - Huntsville|[28523.39, 6113.3...|\n",
      "|039 - EXTRACRANIA...|[10040, GADSDEN R...|AL - Birmingham|[75233.38, 5541.0...|\n",
      "|039 - EXTRACRANIA...|[10046, RIVERVIEW...|AL - Birmingham|[67327.92, 5461.5...|\n",
      "|039 - EXTRACRANIA...|[10055, FLOWERS H...|    AL - Dothan|[39607.28, 5356.2...|\n",
      "|039 - EXTRACRANIA...|[10056, ST VINCEN...|AL - Birmingham|[22862.23, 5374.6...|\n",
      "|039 - EXTRACRANIA...|[10078, NORTHEAST...|AL - Birmingham|[31110.85, 5366.2...|\n",
      "|039 - EXTRACRANIA...|[10083, SOUTH BAL...|    AL - Mobile|[25411.33, 5282.9...|\n",
      "|039 - EXTRACRANIA...|[10085, DECATUR G...|AL - Huntsville|[9234.51, 5676.55...|\n",
      "|039 - EXTRACRANIA...|[10090, PROVIDENC...|    AL - Mobile|[15895.85, 5930.1...|\n",
      "|039 - EXTRACRANIA...|[10092, D C H REG...|AL - Tuscaloosa|[19721.16, 6192.5...|\n",
      "|039 - EXTRACRANIA...|[10100, THOMAS HO...|    AL - Mobile|[10710.88, 4968.0...|\n",
      "|039 - EXTRACRANIA...|[10103, BAPTIST M...|AL - Birmingham|[51343.75, 5996.0...|\n",
      "+--------------------+--------------------+---------------+--------------------+\n",
      "only showing top 20 rows"
     ]
    }
   ],
   "source": [
    "medicare_nest_dyf.toDF().show()"
   ]
  },
  {
   "cell_type": "code",
   "execution_count": 54,
   "metadata": {},
   "outputs": [
    {
     "data": {
      "application/vnd.jupyter.widget-view+json": {
       "model_id": "",
       "version_major": 2,
       "version_minor": 0
      },
      "text/plain": [
       "FloatProgress(value=0.0, bar_style='info', description='Progress:', layout=Layout(height='25px', width='50%'),…"
      ]
     },
     "metadata": {},
     "output_type": "display_data"
    }
   ],
   "source": [
    "spark_df = medicare_nest_dyf.toDF()"
   ]
  },
  {
   "cell_type": "code",
   "execution_count": 60,
   "metadata": {},
   "outputs": [
    {
     "data": {
      "application/vnd.jupyter.widget-view+json": {
       "model_id": "",
       "version_major": 2,
       "version_minor": 0
      },
      "text/plain": [
       "FloatProgress(value=0.0, bar_style='info', description='Progress:', layout=Layout(height='25px', width='50%'),…"
      ]
     },
     "metadata": {},
     "output_type": "display_data"
    }
   ],
   "source": [
    "spark_df.write.format(\"orc\").save(\"s3a://awsglue-datasets/output-dir/medicare.orc\")"
   ]
  },
  {
   "cell_type": "code",
   "execution_count": null,
   "metadata": {},
   "outputs": [],
   "source": []
  }
 ],
 "metadata": {
  "kernelspec": {
   "display_name": "PySpark",
   "language": "",
   "name": "pysparkkernel"
  },
  "language_info": {
   "codemirror_mode": {
    "name": "python",
    "version": 3
   },
   "mimetype": "text/x-python",
   "name": "pyspark",
   "pygments_lexer": "python3"
  }
 },
 "nbformat": 4,
 "nbformat_minor": 4
}
